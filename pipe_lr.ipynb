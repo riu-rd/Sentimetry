{
 "cells": [
  {
   "cell_type": "code",
   "execution_count": 1,
   "metadata": {},
   "outputs": [],
   "source": [
    "import joblib\n",
    "from pathlib import Path\n",
    "\n",
    "model_path = Path('./models/emotion_classifier_pipe_lr.pkl')"
   ]
  },
  {
   "cell_type": "markdown",
   "metadata": {},
   "source": [
    "## Load the Model"
   ]
  },
  {
   "cell_type": "code",
   "execution_count": 2,
   "metadata": {},
   "outputs": [
    {
     "name": "stderr",
     "output_type": "stream",
     "text": [
      "c:\\Users\\dariu\\OneDrive\\Desktop\\data_science\\transformers_env\\lib\\site-packages\\sklearn\\base.py:348: InconsistentVersionWarning: Trying to unpickle estimator CountVectorizer from version 1.2.2 when using version 1.3.2. This might lead to breaking code or invalid results. Use at your own risk. For more info please refer to:\n",
      "https://scikit-learn.org/stable/model_persistence.html#security-maintainability-limitations\n",
      "  warnings.warn(\n",
      "c:\\Users\\dariu\\OneDrive\\Desktop\\data_science\\transformers_env\\lib\\site-packages\\sklearn\\base.py:348: InconsistentVersionWarning: Trying to unpickle estimator LogisticRegression from version 1.2.2 when using version 1.3.2. This might lead to breaking code or invalid results. Use at your own risk. For more info please refer to:\n",
      "https://scikit-learn.org/stable/model_persistence.html#security-maintainability-limitations\n",
      "  warnings.warn(\n",
      "c:\\Users\\dariu\\OneDrive\\Desktop\\data_science\\transformers_env\\lib\\site-packages\\sklearn\\base.py:348: InconsistentVersionWarning: Trying to unpickle estimator Pipeline from version 1.2.2 when using version 1.3.2. This might lead to breaking code or invalid results. Use at your own risk. For more info please refer to:\n",
      "https://scikit-learn.org/stable/model_persistence.html#security-maintainability-limitations\n",
      "  warnings.warn(\n"
     ]
    }
   ],
   "source": [
    "with open(model_path, 'rb') as f:\n",
    "    model = joblib.load(f)"
   ]
  },
  {
   "cell_type": "code",
   "execution_count": 25,
   "metadata": {},
   "outputs": [],
   "source": [
    "text = \"I'm sad but I'm also happy\""
   ]
  },
  {
   "cell_type": "code",
   "execution_count": 26,
   "metadata": {},
   "outputs": [
    {
     "name": "stdout",
     "output_type": "stream",
     "text": [
      "Predicted emotion: ['sadness']\n"
     ]
    }
   ],
   "source": [
    "# Make predictions using the loaded pipeline\n",
    "predicted_emotion = model.predict([text])\n",
    "# Output the predicted emotion\n",
    "print(\"Predicted emotion:\", predicted_emotion)"
   ]
  },
  {
   "cell_type": "code",
   "execution_count": 27,
   "metadata": {},
   "outputs": [
    {
     "name": "stdout",
     "output_type": "stream",
     "text": [
      "Top 3 predicted emotions:\n",
      "sadness\n",
      "joy\n",
      "caring\n"
     ]
    }
   ],
   "source": [
    "# Predict probabilities for each class\n",
    "proba = model.predict_proba([text])\n",
    "\n",
    "# Get the top 3 predicted emotions\n",
    "top3_indices = proba.argsort()[0][-3:][::-1]  # Get indices of top 3 probabilities\n",
    "top3_emotions = model.classes_[top3_indices]  # Get corresponding emotion labels\n",
    "\n",
    "print(\"Top 3 predicted emotions:\")\n",
    "for emotion in top3_emotions:\n",
    "    print(emotion)\n"
   ]
  },
  {
   "cell_type": "code",
   "execution_count": 35,
   "metadata": {},
   "outputs": [
    {
     "data": {
      "text/plain": [
       "array([4.46639289e-02, 1.12794591e-02, 2.60226210e-03, 8.39738727e-03,\n",
       "       2.01148114e-02, 1.23567599e-01, 2.14443469e-02, 2.93018483e-02,\n",
       "       2.81430253e-03, 4.70727632e-02, 8.49748576e-03, 3.53506415e-04,\n",
       "       1.87839298e-03, 6.04268793e-03, 3.26913466e-04, 1.35524464e-02,\n",
       "       2.16882237e-03, 1.33777097e-01, 7.69184407e-03, 2.05782415e-03,\n",
       "       9.18698942e-02, 4.31229647e-03, 6.76089031e-04, 1.53283146e-03,\n",
       "       7.77473350e-04, 3.49881972e-03, 4.09285522e-01, 4.41345157e-04])"
      ]
     },
     "execution_count": 35,
     "metadata": {},
     "output_type": "execute_result"
    }
   ],
   "source": [
    "# Prediction Prob\n",
    "predictions = model.predict_proba([text])[0]\n",
    "predictions"
   ]
  },
  {
   "cell_type": "code",
   "execution_count": 36,
   "metadata": {},
   "outputs": [
    {
     "data": {
      "text/plain": [
       "array(['admiration', 'amusement', 'anger', 'annoyance', 'approval',\n",
       "       'caring', 'confusion', 'curiosity', 'desire', 'disappointment',\n",
       "       'disapproval', 'disgust', 'embarrassment', 'excitement', 'fear',\n",
       "       'gratitude', 'grief', 'joy', 'love', 'nervousness', 'neutral',\n",
       "       'optimism', 'pride', 'realization', 'relief', 'remorse', 'sadness',\n",
       "       'surprise'], dtype=object)"
      ]
     },
     "execution_count": 36,
     "metadata": {},
     "output_type": "execute_result"
    }
   ],
   "source": [
    "# To know the classes\n",
    "classes = model.classes_\n",
    "classes"
   ]
  },
  {
   "cell_type": "code",
   "execution_count": 37,
   "metadata": {},
   "outputs": [
    {
     "name": "stdout",
     "output_type": "stream",
     "text": [
      "[{'label': 'admiration', 'score': 0.04466392888237173}, {'label': 'amusement', 'score': 0.011279459094811865}, {'label': 'anger', 'score': 0.0026022620951684492}, {'label': 'annoyance', 'score': 0.008397387266671835}, {'label': 'approval', 'score': 0.02011481136706427}, {'label': 'caring', 'score': 0.1235675986710664}, {'label': 'confusion', 'score': 0.021444346920122613}, {'label': 'curiosity', 'score': 0.029301848326954594}, {'label': 'desire', 'score': 0.0028143025257729632}, {'label': 'disappointment', 'score': 0.0470727631802838}, {'label': 'disapproval', 'score': 0.008497485761574743}, {'label': 'disgust', 'score': 0.0003535064145533278}, {'label': 'embarrassment', 'score': 0.0018783929834432194}, {'label': 'excitement', 'score': 0.006042687928997813}, {'label': 'fear', 'score': 0.00032691346609657574}, {'label': 'gratitude', 'score': 0.013552446393972786}, {'label': 'grief', 'score': 0.0021688223732827775}, {'label': 'joy', 'score': 0.1337770967300559}, {'label': 'love', 'score': 0.00769184407442035}, {'label': 'nervousness', 'score': 0.00205782415160049}, {'label': 'neutral', 'score': 0.09186989415019145}, {'label': 'optimism', 'score': 0.004312296465693905}, {'label': 'pride', 'score': 0.0006760890307727804}, {'label': 'realization', 'score': 0.0015328314649791612}, {'label': 'relief', 'score': 0.0007774733503079232}, {'label': 'remorse', 'score': 0.0034988197221817625}, {'label': 'sadness', 'score': 0.4092855220501195}, {'label': 'surprise', 'score': 0.0004413451574671704}]\n"
     ]
    }
   ],
   "source": [
    "# Combine predicted probabilities and class labels into an array of dictionaries\n",
    "predictions = [{'label': label, 'score': score} for label, score in zip(classes, predictions)]\n",
    "\n",
    "# Output the predictions\n",
    "print(predictions)"
   ]
  },
  {
   "cell_type": "code",
   "execution_count": 38,
   "metadata": {},
   "outputs": [
    {
     "name": "stdout",
     "output_type": "stream",
     "text": [
      "[{'label': 'sadness', 'score': 0.4092855220501195}, {'label': 'joy', 'score': 0.1337770967300559}, {'label': 'caring', 'score': 0.1235675986710664}, {'label': 'neutral', 'score': 0.09186989415019145}, {'label': 'disappointment', 'score': 0.0470727631802838}, {'label': 'admiration', 'score': 0.04466392888237173}, {'label': 'curiosity', 'score': 0.029301848326954594}, {'label': 'confusion', 'score': 0.021444346920122613}, {'label': 'approval', 'score': 0.02011481136706427}, {'label': 'gratitude', 'score': 0.013552446393972786}, {'label': 'amusement', 'score': 0.011279459094811865}, {'label': 'disapproval', 'score': 0.008497485761574743}, {'label': 'annoyance', 'score': 0.008397387266671835}, {'label': 'love', 'score': 0.00769184407442035}, {'label': 'excitement', 'score': 0.006042687928997813}, {'label': 'optimism', 'score': 0.004312296465693905}, {'label': 'remorse', 'score': 0.0034988197221817625}, {'label': 'desire', 'score': 0.0028143025257729632}, {'label': 'anger', 'score': 0.0026022620951684492}, {'label': 'grief', 'score': 0.0021688223732827775}, {'label': 'nervousness', 'score': 0.00205782415160049}, {'label': 'embarrassment', 'score': 0.0018783929834432194}, {'label': 'realization', 'score': 0.0015328314649791612}, {'label': 'relief', 'score': 0.0007774733503079232}, {'label': 'pride', 'score': 0.0006760890307727804}, {'label': 'surprise', 'score': 0.0004413451574671704}, {'label': 'disgust', 'score': 0.0003535064145533278}, {'label': 'fear', 'score': 0.00032691346609657574}]\n"
     ]
    }
   ],
   "source": [
    "sorted_predictions = sorted(predictions, key=lambda x: x['score'], reverse=True)\n",
    "\n",
    "# Output the sorted predictions\n",
    "print(sorted_predictions)"
   ]
  }
 ],
 "metadata": {
  "kernelspec": {
   "display_name": "Python 3",
   "language": "python",
   "name": "python3"
  },
  "language_info": {
   "codemirror_mode": {
    "name": "ipython",
    "version": 3
   },
   "file_extension": ".py",
   "mimetype": "text/x-python",
   "name": "python",
   "nbconvert_exporter": "python",
   "pygments_lexer": "ipython3",
   "version": "3.8.18"
  }
 },
 "nbformat": 4,
 "nbformat_minor": 2
}
