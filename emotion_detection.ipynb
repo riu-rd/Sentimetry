{
 "cells": [
  {
   "cell_type": "code",
   "execution_count": 2,
   "metadata": {},
   "outputs": [],
   "source": [
    "import os\n",
    "import pandas as pd\n",
    "import matplotlib.pyplot as plt\n",
    "from pathlib import Path\n",
    "import urllib.request\n",
    "from sklearn.model_selection import train_test_split\n",
    "\n",
    "# Tensorflow\n",
    "import tensorflow as tf\n",
    "from tensorflow.keras import layers\n",
    "\n",
    "# RETVec\n",
    "from retvec.tf import RETVecTokenizer\n",
    "\n",
    "# Datasets Folder\n",
    "datasets_folder = Path(\"./datasets/goemotions\")\n",
    "\n",
    "# silence TF INFO messages\n",
    "os.environ['TF_CPP_MIN_LOG_LEVEL'] = '1'  \n",
    "\n",
    "# model save path\n",
    "save_path = './models/emo_model'\n"
   ]
  },
  {
   "cell_type": "markdown",
   "metadata": {},
   "source": [
    "## Get the Emotion Classes"
   ]
  },
  {
   "cell_type": "code",
   "execution_count": 7,
   "metadata": {},
   "outputs": [
    {
     "name": "stdout",
     "output_type": "stream",
     "text": [
      "Number of Classes: 28\n",
      "['admiration', 'amusement', 'anger', 'annoyance', 'approval', 'caring', 'confusion', 'curiosity', 'desire', 'disappointment', 'disapproval', 'disgust', 'embarrassment', 'excitement', 'fear', 'gratitude', 'grief', 'joy', 'love', 'nervousness', 'optimism', 'pride', 'realization', 'relief', 'remorse', 'sadness', 'surprise', 'neutral']\n"
     ]
    }
   ],
   "source": [
    "classes = urllib.request.urlopen('https://raw.githubusercontent.com/google-research/google-research'\n",
    "'/master/goemotions/data/emotions.txt').read().decode('utf8').split('\\n')\n",
    "num_classes = len(classes)\n",
    "print(f\"Number of Classes: {num_classes}\")\n",
    "print(classes)"
   ]
  },
  {
   "cell_type": "markdown",
   "metadata": {},
   "source": [
    "## Load the Dataset"
   ]
  },
  {
   "cell_type": "code",
   "execution_count": 3,
   "metadata": {},
   "outputs": [
    {
     "name": "stdout",
     "output_type": "stream",
     "text": [
      "GoEmotions 1:  (70000, 37)\n",
      "GoEmotions 2:  (70000, 37)\n",
      "GoEmotions 3:  (71225, 37)\n",
      "- - - - - - - - - - - - - - - - - - -\n",
      "GoEmotions Concatenated:  (211225, 37)\n"
     ]
    }
   ],
   "source": [
    "goemotions_1 = pd.read_csv(datasets_folder / \"goemotions_1.csv\")\n",
    "goemotions_2 = pd.read_csv(datasets_folder / \"goemotions_2.csv\")\n",
    "goemotions_3 = pd.read_csv(datasets_folder / \"goemotions_3.csv\")\n",
    "print(\"GoEmotions 1: \", goemotions_1.shape)\n",
    "print(\"GoEmotions 2: \", goemotions_2.shape)\n",
    "print(\"GoEmotions 3: \", goemotions_3.shape)\n",
    "\n",
    "# Concatenate all of the datasets\n",
    "goemotions = pd.concat([goemotions_1, goemotions_2, goemotions_3])\n",
    "print(\"- - - - - - - - - - - - - - - - - - -\\nGoEmotions Concatenated: \", goemotions.shape)"
   ]
  },
  {
   "cell_type": "code",
   "execution_count": 4,
   "metadata": {},
   "outputs": [
    {
     "data": {
      "text/html": [
       "<div>\n",
       "<style scoped>\n",
       "    .dataframe tbody tr th:only-of-type {\n",
       "        vertical-align: middle;\n",
       "    }\n",
       "\n",
       "    .dataframe tbody tr th {\n",
       "        vertical-align: top;\n",
       "    }\n",
       "\n",
       "    .dataframe thead th {\n",
       "        text-align: right;\n",
       "    }\n",
       "</style>\n",
       "<table border=\"1\" class=\"dataframe\">\n",
       "  <thead>\n",
       "    <tr style=\"text-align: right;\">\n",
       "      <th></th>\n",
       "      <th>text</th>\n",
       "      <th>id</th>\n",
       "      <th>author</th>\n",
       "      <th>subreddit</th>\n",
       "      <th>link_id</th>\n",
       "      <th>parent_id</th>\n",
       "      <th>created_utc</th>\n",
       "      <th>rater_id</th>\n",
       "      <th>example_very_unclear</th>\n",
       "      <th>admiration</th>\n",
       "      <th>...</th>\n",
       "      <th>love</th>\n",
       "      <th>nervousness</th>\n",
       "      <th>optimism</th>\n",
       "      <th>pride</th>\n",
       "      <th>realization</th>\n",
       "      <th>relief</th>\n",
       "      <th>remorse</th>\n",
       "      <th>sadness</th>\n",
       "      <th>surprise</th>\n",
       "      <th>neutral</th>\n",
       "    </tr>\n",
       "  </thead>\n",
       "  <tbody>\n",
       "    <tr>\n",
       "      <th>0</th>\n",
       "      <td>That game hurt.</td>\n",
       "      <td>eew5j0j</td>\n",
       "      <td>Brdd9</td>\n",
       "      <td>nrl</td>\n",
       "      <td>t3_ajis4z</td>\n",
       "      <td>t1_eew18eq</td>\n",
       "      <td>1.548381e+09</td>\n",
       "      <td>1</td>\n",
       "      <td>False</td>\n",
       "      <td>0</td>\n",
       "      <td>...</td>\n",
       "      <td>0</td>\n",
       "      <td>0</td>\n",
       "      <td>0</td>\n",
       "      <td>0</td>\n",
       "      <td>0</td>\n",
       "      <td>0</td>\n",
       "      <td>0</td>\n",
       "      <td>1</td>\n",
       "      <td>0</td>\n",
       "      <td>0</td>\n",
       "    </tr>\n",
       "    <tr>\n",
       "      <th>1</th>\n",
       "      <td>&gt;sexuality shouldn’t be a grouping category I...</td>\n",
       "      <td>eemcysk</td>\n",
       "      <td>TheGreen888</td>\n",
       "      <td>unpopularopinion</td>\n",
       "      <td>t3_ai4q37</td>\n",
       "      <td>t3_ai4q37</td>\n",
       "      <td>1.548084e+09</td>\n",
       "      <td>37</td>\n",
       "      <td>True</td>\n",
       "      <td>0</td>\n",
       "      <td>...</td>\n",
       "      <td>0</td>\n",
       "      <td>0</td>\n",
       "      <td>0</td>\n",
       "      <td>0</td>\n",
       "      <td>0</td>\n",
       "      <td>0</td>\n",
       "      <td>0</td>\n",
       "      <td>0</td>\n",
       "      <td>0</td>\n",
       "      <td>0</td>\n",
       "    </tr>\n",
       "    <tr>\n",
       "      <th>2</th>\n",
       "      <td>You do right, if you don't care then fuck 'em!</td>\n",
       "      <td>ed2mah1</td>\n",
       "      <td>Labalool</td>\n",
       "      <td>confessions</td>\n",
       "      <td>t3_abru74</td>\n",
       "      <td>t1_ed2m7g7</td>\n",
       "      <td>1.546428e+09</td>\n",
       "      <td>37</td>\n",
       "      <td>False</td>\n",
       "      <td>0</td>\n",
       "      <td>...</td>\n",
       "      <td>0</td>\n",
       "      <td>0</td>\n",
       "      <td>0</td>\n",
       "      <td>0</td>\n",
       "      <td>0</td>\n",
       "      <td>0</td>\n",
       "      <td>0</td>\n",
       "      <td>0</td>\n",
       "      <td>0</td>\n",
       "      <td>1</td>\n",
       "    </tr>\n",
       "    <tr>\n",
       "      <th>3</th>\n",
       "      <td>Man I love reddit.</td>\n",
       "      <td>eeibobj</td>\n",
       "      <td>MrsRobertshaw</td>\n",
       "      <td>facepalm</td>\n",
       "      <td>t3_ahulml</td>\n",
       "      <td>t3_ahulml</td>\n",
       "      <td>1.547965e+09</td>\n",
       "      <td>18</td>\n",
       "      <td>False</td>\n",
       "      <td>0</td>\n",
       "      <td>...</td>\n",
       "      <td>1</td>\n",
       "      <td>0</td>\n",
       "      <td>0</td>\n",
       "      <td>0</td>\n",
       "      <td>0</td>\n",
       "      <td>0</td>\n",
       "      <td>0</td>\n",
       "      <td>0</td>\n",
       "      <td>0</td>\n",
       "      <td>0</td>\n",
       "    </tr>\n",
       "    <tr>\n",
       "      <th>4</th>\n",
       "      <td>[NAME] was nowhere near them, he was by the Fa...</td>\n",
       "      <td>eda6yn6</td>\n",
       "      <td>American_Fascist713</td>\n",
       "      <td>starwarsspeculation</td>\n",
       "      <td>t3_ackt2f</td>\n",
       "      <td>t1_eda65q2</td>\n",
       "      <td>1.546669e+09</td>\n",
       "      <td>2</td>\n",
       "      <td>False</td>\n",
       "      <td>0</td>\n",
       "      <td>...</td>\n",
       "      <td>0</td>\n",
       "      <td>0</td>\n",
       "      <td>0</td>\n",
       "      <td>0</td>\n",
       "      <td>0</td>\n",
       "      <td>0</td>\n",
       "      <td>0</td>\n",
       "      <td>0</td>\n",
       "      <td>0</td>\n",
       "      <td>1</td>\n",
       "    </tr>\n",
       "  </tbody>\n",
       "</table>\n",
       "<p>5 rows × 37 columns</p>\n",
       "</div>"
      ],
      "text/plain": [
       "                                                text       id  \\\n",
       "0                                    That game hurt.  eew5j0j   \n",
       "1   >sexuality shouldn’t be a grouping category I...  eemcysk   \n",
       "2     You do right, if you don't care then fuck 'em!  ed2mah1   \n",
       "3                                 Man I love reddit.  eeibobj   \n",
       "4  [NAME] was nowhere near them, he was by the Fa...  eda6yn6   \n",
       "\n",
       "                author            subreddit    link_id   parent_id  \\\n",
       "0                Brdd9                  nrl  t3_ajis4z  t1_eew18eq   \n",
       "1          TheGreen888     unpopularopinion  t3_ai4q37   t3_ai4q37   \n",
       "2             Labalool          confessions  t3_abru74  t1_ed2m7g7   \n",
       "3        MrsRobertshaw             facepalm  t3_ahulml   t3_ahulml   \n",
       "4  American_Fascist713  starwarsspeculation  t3_ackt2f  t1_eda65q2   \n",
       "\n",
       "    created_utc  rater_id  example_very_unclear  admiration  ...  love  \\\n",
       "0  1.548381e+09         1                 False           0  ...     0   \n",
       "1  1.548084e+09        37                  True           0  ...     0   \n",
       "2  1.546428e+09        37                 False           0  ...     0   \n",
       "3  1.547965e+09        18                 False           0  ...     1   \n",
       "4  1.546669e+09         2                 False           0  ...     0   \n",
       "\n",
       "   nervousness  optimism  pride  realization  relief  remorse  sadness  \\\n",
       "0            0         0      0            0       0        0        1   \n",
       "1            0         0      0            0       0        0        0   \n",
       "2            0         0      0            0       0        0        0   \n",
       "3            0         0      0            0       0        0        0   \n",
       "4            0         0      0            0       0        0        0   \n",
       "\n",
       "   surprise  neutral  \n",
       "0         0        0  \n",
       "1         0        0  \n",
       "2         0        1  \n",
       "3         0        0  \n",
       "4         0        1  \n",
       "\n",
       "[5 rows x 37 columns]"
      ]
     },
     "execution_count": 4,
     "metadata": {},
     "output_type": "execute_result"
    }
   ],
   "source": [
    "goemotions.head()"
   ]
  },
  {
   "cell_type": "markdown",
   "metadata": {},
   "source": [
    "## Preparing Train/Test data and Conversion to Tensors"
   ]
  },
  {
   "cell_type": "code",
   "execution_count": 5,
   "metadata": {},
   "outputs": [],
   "source": [
    "text = goemotions['text']\n",
    "labels = goemotions[classes]\n",
    "\n",
    "text_train, text_test, labels_train, labels_test = train_test_split(\n",
    "    text, labels, test_size=0.20, random_state=23\n",
    ")"
   ]
  },
  {
   "cell_type": "code",
   "execution_count": 6,
   "metadata": {},
   "outputs": [],
   "source": [
    "# Train Data\n",
    "x_train = tf.constant(text_train.tolist(), dtype=tf.string)\n",
    "y_train = labels_train.values.astype(float)\n",
    "\n",
    "# Test Data\n",
    "x_test = tf.constant(text_test.tolist(), dtype=tf.string)\n",
    "y_test = labels_test.values.astype(float)"
   ]
  },
  {
   "cell_type": "code",
   "execution_count": 7,
   "metadata": {},
   "outputs": [
    {
     "name": "stdout",
     "output_type": "stream",
     "text": [
      "x_train contents:\n",
      "tf.Tensor(\n",
      "[b'Agree, I love her so much'\n",
      " b\"Peaky Blinders is the shit. I don't understand how there isn't more hype around this show.\"\n",
      " b'Thank you anyway! I\\xe2\\x80\\x99m 30 and I don\\xe2\\x80\\x99t get a lot of these things.'\n",
      " ... b'We gotta keep [NAME]'\n",
      " b'Man, I wish I liked music that much. Well maybe not *that* much, but you know what I mean. '\n",
      " b'Death will come in the end. Live while you can. Life is a once in an eternity opportunity.'], shape=(168980,), dtype=string)\n",
      "<class 'tensorflow.python.framework.ops.EagerTensor'>\n",
      "\n",
      "y_train contents:\n",
      "[[0. 0. 0. ... 0. 0. 0.]\n",
      " [0. 0. 0. ... 0. 0. 0.]\n",
      " [0. 0. 0. ... 0. 0. 0.]\n",
      " ...\n",
      " [0. 0. 0. ... 0. 0. 1.]\n",
      " [0. 0. 0. ... 0. 0. 1.]\n",
      " [0. 0. 0. ... 0. 0. 0.]]\n",
      "<class 'numpy.ndarray'>\n"
     ]
    }
   ],
   "source": [
    "print(\"x_train contents:\")\n",
    "print(x_train)\n",
    "print(type(x_train))\n",
    "print(\"\\ny_train contents:\")\n",
    "print(y_train)\n",
    "print(type(y_train))"
   ]
  },
  {
   "cell_type": "markdown",
   "metadata": {},
   "source": [
    "## Creating the Keras Model\n",
    "A key benefit of using RETVec is that inputs to RETVec and the text model are raw strings with no pre-processing neccessary, which greatly simplifies the training and inference process, especially for on-device models.\n",
    "\n",
    "Notes:\n",
    "\n",
    "- Using strings directly as input requires to use a shape of (1,) and specify the type tf.string\n",
    "- We are using RETVecTokenizer() in its default configuration which is to truncate at 128 words and use a small pre-trained word embedding model to embed the words. You can experiment with shorter or longer length by changing the sequence_length parameter. The word embedding model offers significant improvements in adversarial and typo robustness. To use the RETVec character tokenizer only, set model=None.\n",
    "- To use native TF ops only for TF Lite compatibility, set use_tf_lite_compatible_ops=True. see the TF Lite notebook for more details on how to convert a RETVec-based model to a TF Lite model which can run on-device."
   ]
  },
  {
   "cell_type": "code",
   "execution_count": 70,
   "metadata": {},
   "outputs": [
    {
     "name": "stdout",
     "output_type": "stream",
     "text": [
      "WARNING:tensorflow:No training configuration found in save file, so the model was *not* compiled. Compile it manually.\n",
      "Model: \"model_1\"\n",
      "_________________________________________________________________\n",
      " Layer (type)                Output Shape              Param #   \n",
      "=================================================================\n",
      " token (InputLayer)          [(None, 1)]               0         \n",
      "                                                                 \n",
      " ret_vec_tokenizer_1 (RETVe  (None, 128, 256)          230144    \n",
      " cTokenizer)                                                     \n",
      "                                                                 \n",
      " bidirectional_2 (Bidirecti  (None, 128, 128)          164352    \n",
      " onal)                                                           \n",
      "                                                                 \n",
      " bidirectional_3 (Bidirecti  (None, 128)               98816     \n",
      " onal)                                                           \n",
      "                                                                 \n",
      " dense_1 (Dense)             (None, 28)                3612      \n",
      "                                                                 \n",
      "=================================================================\n",
      "Total params: 496924 (1.90 MB)\n",
      "Trainable params: 266780 (1.02 MB)\n",
      "Non-trainable params: 230144 (899.00 KB)\n",
      "_________________________________________________________________\n"
     ]
    }
   ],
   "source": [
    "# Inputs: Using strings directly requires to put a shape of (1,) and dtype tf.string\n",
    "inputs = layers.Input(shape=(1, ), name=\"token\", dtype=tf.string)\n",
    "\n",
    "# Layers: add RETVec tokenizer layer with default settings\n",
    "x = RETVecTokenizer(model='retvec-v1')(inputs)\n",
    "# standard two layer LSTM\n",
    "x = layers.Bidirectional(layers.LSTM(64, return_sequences=True))(x)\n",
    "x = layers.Bidirectional(layers.LSTM(64))(x)\n",
    "\n",
    "# Outputs: Dense layer with Sigmoid \n",
    "# Sigmoid is a better activation function for binary-class problems\n",
    "# In our case, the data using one-hot encoding\n",
    "outputs = layers.Dense(num_classes, activation='sigmoid')(x)\n",
    "\n",
    "# Finish setting up the model\n",
    "model = tf.keras.Model(inputs, outputs)\n",
    "model.summary()"
   ]
  },
  {
   "cell_type": "code",
   "execution_count": 71,
   "metadata": {},
   "outputs": [
    {
     "name": "stdout",
     "output_type": "stream",
     "text": [
      "Epoch 1/25\n",
      "661/661 [==============================] - 1445s 2s/step - loss: 0.1586 - acc: 0.2740 - val_loss: 0.1478 - val_acc: 0.2995\n",
      "Epoch 2/25\n",
      "661/661 [==============================] - 1358s 2s/step - loss: 0.1428 - acc: 0.3200 - val_loss: 0.1373 - val_acc: 0.3426\n",
      "Epoch 3/25\n",
      "661/661 [==============================] - 1566s 2s/step - loss: 0.1355 - acc: 0.3488 - val_loss: 0.1325 - val_acc: 0.3592\n",
      "Epoch 4/25\n",
      "661/661 [==============================] - 1539s 2s/step - loss: 0.1313 - acc: 0.3615 - val_loss: 0.1292 - val_acc: 0.3668\n",
      "Epoch 5/25\n",
      "661/661 [==============================] - 1321s 2s/step - loss: 0.1284 - acc: 0.3719 - val_loss: 0.1265 - val_acc: 0.3778\n",
      "Epoch 6/25\n",
      "661/661 [==============================] - 1315s 2s/step - loss: 0.1262 - acc: 0.3805 - val_loss: 0.1246 - val_acc: 0.3872\n",
      "Epoch 7/25\n",
      "661/661 [==============================] - 1163s 2s/step - loss: 0.1243 - acc: 0.3864 - val_loss: 0.1237 - val_acc: 0.3872\n",
      "Epoch 8/25\n",
      "661/661 [==============================] - 1023s 2s/step - loss: 0.1228 - acc: 0.3910 - val_loss: 0.1238 - val_acc: 0.3849\n",
      "Epoch 9/25\n",
      "661/661 [==============================] - 993s 2s/step - loss: 0.1215 - acc: 0.3953 - val_loss: 0.1218 - val_acc: 0.3917\n",
      "Epoch 10/25\n",
      "661/661 [==============================] - 978s 1s/step - loss: 0.1205 - acc: 0.3990 - val_loss: 0.1220 - val_acc: 0.3922\n",
      "Epoch 11/25\n",
      "661/661 [==============================] - 1113s 2s/step - loss: 0.1194 - acc: 0.4021 - val_loss: 0.1210 - val_acc: 0.3971\n",
      "Epoch 12/25\n",
      "661/661 [==============================] - 1113s 2s/step - loss: 0.1187 - acc: 0.4045 - val_loss: 0.1203 - val_acc: 0.3964\n",
      "Epoch 13/25\n",
      "661/661 [==============================] - 1089s 2s/step - loss: 0.1178 - acc: 0.4085 - val_loss: 0.1199 - val_acc: 0.4004\n",
      "Epoch 14/25\n",
      "661/661 [==============================] - 1177s 2s/step - loss: 0.1171 - acc: 0.4101 - val_loss: 0.1206 - val_acc: 0.3980\n",
      "Epoch 15/25\n",
      "661/661 [==============================] - 1145s 2s/step - loss: 0.1164 - acc: 0.4129 - val_loss: 0.1203 - val_acc: 0.3995\n",
      "Epoch 16/25\n",
      "661/661 [==============================] - 1164s 2s/step - loss: 0.1157 - acc: 0.4152 - val_loss: 0.1192 - val_acc: 0.4026\n",
      "Epoch 17/25\n",
      "661/661 [==============================] - 1149s 2s/step - loss: 0.1152 - acc: 0.4164 - val_loss: 0.1186 - val_acc: 0.4030\n",
      "Epoch 18/25\n",
      "661/661 [==============================] - 1208s 2s/step - loss: 0.1147 - acc: 0.4187 - val_loss: 0.1195 - val_acc: 0.4022\n",
      "Epoch 19/25\n",
      "661/661 [==============================] - 1168s 2s/step - loss: 0.1142 - acc: 0.4193 - val_loss: 0.1188 - val_acc: 0.4045\n",
      "Epoch 20/25\n",
      "661/661 [==============================] - 1164s 2s/step - loss: 0.1137 - acc: 0.4222 - val_loss: 0.1188 - val_acc: 0.4057\n",
      "Epoch 21/25\n",
      "661/661 [==============================] - 1130s 2s/step - loss: 0.1133 - acc: 0.4230 - val_loss: 0.1193 - val_acc: 0.4040\n",
      "Epoch 22/25\n",
      "661/661 [==============================] - 1128s 2s/step - loss: 0.1128 - acc: 0.4243 - val_loss: 0.1192 - val_acc: 0.3989\n",
      "Epoch 23/25\n",
      "661/661 [==============================] - 1223s 2s/step - loss: 0.1125 - acc: 0.4264 - val_loss: 0.1184 - val_acc: 0.4049\n",
      "Epoch 24/25\n",
      "661/661 [==============================] - 1244s 2s/step - loss: 0.1120 - acc: 0.4286 - val_loss: 0.1189 - val_acc: 0.4059\n",
      "Epoch 25/25\n",
      "661/661 [==============================] - 1223s 2s/step - loss: 0.1118 - acc: 0.4286 - val_loss: 0.1185 - val_acc: 0.4060\n"
     ]
    }
   ],
   "source": [
    "# Compile and Train the Model\n",
    "batch_size = 256\n",
    "epochs = 25\n",
    "model.compile(optimizer='adam', loss='binary_crossentropy', metrics=['acc'])\n",
    "history = model.fit(x_train, y_train, epochs=epochs, batch_size=batch_size, \n",
    "                    validation_data=(x_test, y_test))"
   ]
  },
  {
   "cell_type": "markdown",
   "metadata": {},
   "source": [
    "## Plot the Training Accuracy and Validation Accuracy"
   ]
  },
  {
   "cell_type": "code",
   "execution_count": 72,
   "metadata": {},
   "outputs": [
    {
     "data": {
      "image/png": "[encoded data removed]",
      "text/plain": [
       "<Figure size 640x480 with 1 Axes>"
      ]
     },
     "metadata": {},
     "output_type": "display_data"
    }
   ],
   "source": [
    "# Visualize the Training Curves\n",
    "plt.plot(history.history['acc'])\n",
    "plt.plot(history.history['val_acc'])\n",
    "plt.legend(['acc', 'val_acc'])\n",
    "plt.title(f'Accuracy')\n",
    "plt.show()"
   ]
  },
  {
   "cell_type": "markdown",
   "metadata": {},
   "source": [
    "## Save the Model"
   ]
  },
  {
   "cell_type": "code",
   "execution_count": 73,
   "metadata": {},
   "outputs": [
    {
     "name": "stdout",
     "output_type": "stream",
     "text": [
      "WARNING:tensorflow:Skipping full serialization of Keras layer <keras.src.layers.regularization.dropout.Dropout object at 0x000001CB883B22B0>, because it is not built.\n",
      "WARNING:tensorflow:Skipping full serialization of Keras layer <keras.src.layers.regularization.spatial_dropout1d.SpatialDropout1D object at 0x000001CB8E2FB790>, because it is not built.\n",
      "INFO:tensorflow:Assets written to: ./models/emo_model\\assets\n"
     ]
    },
    {
     "name": "stderr",
     "output_type": "stream",
     "text": [
      "INFO:tensorflow:Assets written to: ./models/emo_model\\assets\n"
     ]
    }
   ],
   "source": [
    "# Saving the Model\n",
    "model.save(save_path)"
   ]
  },
  {
   "cell_type": "markdown",
   "metadata": {},
   "source": [
    "## Load the Model\n",
    "#### To load the model, run everything <b>EXCEPT</b> for:\n",
    "- Creating the Keras Model Section\n",
    "- Plotting Section\n",
    "- Saving the Model Section"
   ]
  },
  {
   "cell_type": "code",
   "execution_count": 3,
   "metadata": {},
   "outputs": [
    {
     "name": "stdout",
     "output_type": "stream",
     "text": [
      "WARNING:tensorflow:No training configuration found in save file, so the model was *not* compiled. Compile it manually.\n"
     ]
    }
   ],
   "source": [
    "model = tf.keras.models.load_model(save_path, compile=True)"
   ]
  },
  {
   "cell_type": "code",
   "execution_count": 10,
   "metadata": {},
   "outputs": [
    {
     "name": "stdout",
     "output_type": "stream",
     "text": [
      "1321/1321 [==============================] - 89s 64ms/step - loss: 0.1185 - acc: 0.4060\n",
      "Loss: 11.85%\n",
      "Accuracy: 40.60%\n"
     ]
    }
   ],
   "source": [
    "loss, accuracy = model.evaluate(x_test, y_test)\n",
    "\n",
    "print(f'Loss: {loss * 100:.2f}%')\n",
    "print(f'Accuracy: {accuracy * 100:.2f}%')"
   ]
  },
  {
   "cell_type": "code",
   "execution_count": 4,
   "metadata": {},
   "outputs": [
    {
     "data": {
      "text/plain": [
       "<tf.Tensor: shape=(28,), dtype=float32, numpy=\n",
       "array([9.3747186e-04, 1.7227542e-03, 1.3423254e-02, 3.5864666e-02,\n",
       "       1.2334862e-02, 2.4428999e-02, 3.8406607e-03, 4.2158054e-04,\n",
       "       1.5222796e-03, 3.2064754e-01, 7.0128568e-02, 9.6721083e-02,\n",
       "       5.2906834e-02, 1.0024547e-03, 8.4288567e-03, 8.4581220e-04,\n",
       "       3.6273327e-02, 1.0457520e-03, 1.5308937e-03, 1.8504879e-02,\n",
       "       5.3336443e-03, 1.1322194e-03, 2.3114558e-02, 1.3336779e-03,\n",
       "       5.9525438e-02, 5.1732826e-01, 1.1333829e-03, 1.1588553e-01],\n",
       "      dtype=float32)>"
      ]
     },
     "execution_count": 4,
     "metadata": {},
     "output_type": "execute_result"
    }
   ],
   "source": [
    "# The model returns the array of probabilities for all 28 emotions\n",
    "model(tf.constant([\"I feel so bad\"]))[0]"
   ]
  },
  {
   "cell_type": "code",
   "execution_count": 8,
   "metadata": {},
   "outputs": [],
   "source": [
    "def predict_emotions(txt):\n",
    "    predictions = model(tf.constant([txt]))[0]\n",
    "    best_prediction_index = tf.argmax(predictions).numpy()\n",
    "    predicted_emotion = classes[best_prediction_index]\n",
    "    probability = round(tf.reduce_max(predictions).numpy() * 100, 1)\n",
    "    print(f\"Emotion: {predicted_emotion} ({probability})%\")"
   ]
  },
  {
   "cell_type": "code",
   "execution_count": 15,
   "metadata": {},
   "outputs": [
    {
     "name": "stdout",
     "output_type": "stream",
     "text": [
      "- - - - | he is really good at what he is doing | - - - -\n",
      "Emotion: admiration (81.8)%\n",
      "- - - - | I am angry | - - - -\n",
      "Emotion: anger (58.6)%\n",
      "- - - - | I find these very funny | - - - -\n",
      "Emotion: amusement (65.7)%\n",
      "- - - - | I enjoy having a good icecream. | - - - -\n",
      "Emotion: joy (74.8)%\n",
      "- - - - | I don't like this. Take it away | - - - -\n",
      "Emotion: disapproval (64.3)%\n",
      "- - - - | You shocked me! | - - - -\n",
      "Emotion: surprise (44.8)%\n",
      "- - - - | That was embarassing. | - - - -\n",
      "Emotion: embarrassment (51.1)%\n",
      "- - - - | I think that you are right | - - - -\n",
      "Emotion: approval (59.3)%\n",
      "- - - - | The food tastes so disgusting | - - - -\n",
      "Emotion: disgust (87.2)%\n",
      "- - - - | I am very sorry for your loss | - - - -\n",
      "Emotion: sadness (63.9)%\n",
      "- - - - | I just realized that I should be working right now | - - - -\n",
      "Emotion: realization (77.6)%\n",
      "- - - - | I think I really like you | - - - -\n",
      "Emotion: love (52.6)%\n",
      "- - - - | This place is creepy and scary | - - - -\n",
      "Emotion: fear (95.7)%\n",
      "- - - - | I want to be a billionaire | - - - -\n",
      "Emotion: desire (45.3)%\n",
      "- - - - | I just feel so annoyed | - - - -\n",
      "Emotion: anger (33.2)%\n"
     ]
    }
   ],
   "source": [
    "txts = [\n",
    "    \"he is really good at what he is doing\",\n",
    "    \"I am angry\",\n",
    "    \"I find these very funny\",\n",
    "    \"I enjoy having a good icecream.\",\n",
    "    \"I don't like this. Take it away\",\n",
    "    \"You shocked me!\",\n",
    "    \"That was embarassing.\",\n",
    "    \"I think that you are right\",\n",
    "    \"The food tastes so disgusting\",\n",
    "    \"I am very sorry for your loss\",\n",
    "    \"I just realized that I should be working right now\",\n",
    "    \"I think I really like you\",\n",
    "    \"This place is creepy and scary\",\n",
    "    \"I want to be a billionaire\",\n",
    "    \"I just feel so annoyed\"\n",
    "]\n",
    "for txt in txts:\n",
    "    print(f\"- - - - | {txt} | - - - -\")\n",
    "    predict_emotions(txt)"
   ]
  },
  {
   "cell_type": "code",
   "execution_count": 16,
   "metadata": {},
   "outputs": [
    {
     "name": "stdout",
     "output_type": "stream",
     "text": [
      "Emotion: joy (60.8)%\n"
     ]
    }
   ],
   "source": [
    "# the model works even with typos, substitutions, and emojis!\n",
    "txt = \"I enjoy hving a g00d ic3cream!!! 🍦\"\n",
    "predict_emotions(txt)"
   ]
  }
 ],
 "metadata": {
  "kernelspec": {
   "display_name": "Python 3",
   "language": "python",
   "name": "python3"
  },
  "language_info": {
   "codemirror_mode": {
    "name": "ipython",
    "version": 3
   },
   "file_extension": ".py",
   "mimetype": "text/x-python",
   "name": "python",
   "nbconvert_exporter": "python",
   "pygments_lexer": "ipython3",
   "version": "3.8.18"
  }
 },
 "nbformat": 4,
 "nbformat_minor": 2
}
