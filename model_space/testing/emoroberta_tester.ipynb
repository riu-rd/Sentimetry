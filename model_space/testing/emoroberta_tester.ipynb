{
 "cells": [
  {
   "cell_type": "code",
   "execution_count": 1,
   "metadata": {},
   "outputs": [],
   "source": [
    "import pandas as pd\n",
    "from pathlib import Path\n",
    "import re\n",
    "\n",
    "# ML Libraries\n",
    "from sklearn.model_selection import train_test_split\n",
    "from transformers import RobertaTokenizerFast, TFRobertaForSequenceClassification, pipeline\n",
    "\n",
    "# Datasets Folder\n",
    "datasets_folder = Path(\"../datasets/goemotions\")"
   ]
  },
  {
   "cell_type": "markdown",
   "metadata": {},
   "source": [
    "## Get the Classes"
   ]
  },
  {
   "cell_type": "code",
   "execution_count": 2,
   "metadata": {},
   "outputs": [],
   "source": [
    "classes = ['admiration', 'amusement', 'anger', 'annoyance', 'approval', 'caring', 'confusion', 'curiosity', 'desire', 'disappointment', 'disapproval', 'disgust', 'embarrassment', 'excitement', 'fear', 'gratitude', 'grief', 'joy', 'love', 'nervousness', 'optimism', 'pride', 'realization', 'relief', 'remorse', 'sadness', 'surprise', 'neutral']"
   ]
  },
  {
   "cell_type": "markdown",
   "metadata": {},
   "source": [
    "## Load the Dataset"
   ]
  },
  {
   "cell_type": "code",
   "execution_count": 3,
   "metadata": {},
   "outputs": [
    {
     "name": "stdout",
     "output_type": "stream",
     "text": [
      "GoEmotions 1:  (70000, 37)\n",
      "GoEmotions 2:  (70000, 37)\n",
      "GoEmotions 3:  (71225, 37)\n",
      "- - - - - - - - - - - - - - - - - - -\n",
      "GoEmotions Concatenated:  (211225, 37)\n"
     ]
    }
   ],
   "source": [
    "goemotions_1 = pd.read_csv(datasets_folder / \"goemotions_1.csv\")\n",
    "goemotions_2 = pd.read_csv(datasets_folder / \"goemotions_2.csv\")\n",
    "goemotions_3 = pd.read_csv(datasets_folder / \"goemotions_3.csv\")\n",
    "print(\"GoEmotions 1: \", goemotions_1.shape)\n",
    "print(\"GoEmotions 2: \", goemotions_2.shape)\n",
    "print(\"GoEmotions 3: \", goemotions_3.shape)\n",
    "\n",
    "# Concatenate all of the datasets\n",
    "goemotions = pd.concat([goemotions_1, goemotions_2, goemotions_3])\n",
    "print(\"- - - - - - - - - - - - - - - - - - -\\nGoEmotions Concatenated: \", goemotions.shape)"
   ]
  },
  {
   "cell_type": "markdown",
   "metadata": {},
   "source": [
    "## Extract the Test Data with a random_state of 23 for Keras Model"
   ]
  },
  {
   "cell_type": "code",
   "execution_count": 4,
   "metadata": {},
   "outputs": [],
   "source": [
    "text = goemotions['text']\n",
    "labels = goemotions[classes]\n",
    "\n",
    "text_train, text_test, labels_train, labels_test = train_test_split(\n",
    "    text, labels, test_size=0.20, random_state=23\n",
    ")"
   ]
  },
  {
   "cell_type": "code",
   "execution_count": 5,
   "metadata": {},
   "outputs": [],
   "source": [
    "test_data = pd.DataFrame()\n",
    "test_data['text'] = text_test\n",
    "test_data['emotion'] = labels_test[classes].idxmax(axis=1)\n",
    "test_data = test_data.reset_index()\n",
    "test_data = test_data.drop(columns=['index'])"
   ]
  },
  {
   "cell_type": "code",
   "execution_count": 6,
   "metadata": {},
   "outputs": [],
   "source": [
    "# Function to remove unknown symbols from text\n",
    "def remove_unknown_symbols(text):\n",
    "    # Define a regular expression pattern to match characters that are not within the range of alphanumeric, space, and common punctuation characters\n",
    "    pattern = re.compile(r'[^A-Za-z0-9\\s.,?!\\'\"-]')\n",
    "    # Replace unknown symbols with an empty string\n",
    "    return re.sub(pattern, '', text)"
   ]
  },
  {
   "cell_type": "code",
   "execution_count": 7,
   "metadata": {},
   "outputs": [
    {
     "data": {
      "text/html": [
       "<div>\n",
       "<style scoped>\n",
       "    .dataframe tbody tr th:only-of-type {\n",
       "        vertical-align: middle;\n",
       "    }\n",
       "\n",
       "    .dataframe tbody tr th {\n",
       "        vertical-align: top;\n",
       "    }\n",
       "\n",
       "    .dataframe thead th {\n",
       "        text-align: right;\n",
       "    }\n",
       "</style>\n",
       "<table border=\"1\" class=\"dataframe\">\n",
       "  <thead>\n",
       "    <tr style=\"text-align: right;\">\n",
       "      <th></th>\n",
       "      <th>text</th>\n",
       "      <th>emotion</th>\n",
       "    </tr>\n",
       "  </thead>\n",
       "  <tbody>\n",
       "    <tr>\n",
       "      <th>0</th>\n",
       "      <td>It's delicate, so it's clear for those flesh t...</td>\n",
       "      <td>neutral</td>\n",
       "    </tr>\n",
       "    <tr>\n",
       "      <th>1</th>\n",
       "      <td>I wanna die!</td>\n",
       "      <td>anger</td>\n",
       "    </tr>\n",
       "    <tr>\n",
       "      <th>2</th>\n",
       "      <td>Man I love how venezuela is a dictatorship whe...</td>\n",
       "      <td>admiration</td>\n",
       "    </tr>\n",
       "    <tr>\n",
       "      <th>3</th>\n",
       "      <td>Thank you. Ive been doing more research about ...</td>\n",
       "      <td>gratitude</td>\n",
       "    </tr>\n",
       "    <tr>\n",
       "      <th>4</th>\n",
       "      <td>I mean it changes that game at least because i...</td>\n",
       "      <td>excitement</td>\n",
       "    </tr>\n",
       "  </tbody>\n",
       "</table>\n",
       "</div>"
      ],
      "text/plain": [
       "                                                text     emotion\n",
       "0  It's delicate, so it's clear for those flesh t...     neutral\n",
       "1                                       I wanna die!       anger\n",
       "2  Man I love how venezuela is a dictatorship whe...  admiration\n",
       "3  Thank you. Ive been doing more research about ...   gratitude\n",
       "4  I mean it changes that game at least because i...  excitement"
      ]
     },
     "execution_count": 7,
     "metadata": {},
     "output_type": "execute_result"
    }
   ],
   "source": [
    "test_data['text'] = test_data['text'].apply(remove_unknown_symbols)\n",
    "test_data.head()"
   ]
  },
  {
   "cell_type": "markdown",
   "metadata": {},
   "source": [
    "## Load EmoRoBERTa"
   ]
  },
  {
   "cell_type": "code",
   "execution_count": 8,
   "metadata": {},
   "outputs": [
    {
     "name": "stderr",
     "output_type": "stream",
     "text": [
      "All model checkpoint layers were used when initializing TFRobertaForSequenceClassification.\n",
      "\n",
      "All the layers of TFRobertaForSequenceClassification were initialized from the model checkpoint at arpanghoshal/EmoRoBERTa.\n",
      "If your task is similar to the task the model of the checkpoint was trained on, you can already use TFRobertaForSequenceClassification for predictions without further training.\n",
      "All model checkpoint layers were used when initializing TFRobertaForSequenceClassification.\n",
      "\n",
      "All the layers of TFRobertaForSequenceClassification were initialized from the model checkpoint at arpanghoshal/EmoRoBERTa.\n",
      "If your task is similar to the task the model of the checkpoint was trained on, you can already use TFRobertaForSequenceClassification for predictions without further training.\n",
      "c:\\Users\\dariu\\OneDrive\\Desktop\\data_science\\transformers_env\\lib\\site-packages\\transformers\\pipelines\\text_classification.py:104: UserWarning: `return_all_scores` is now deprecated,  if want a similar functionality use `top_k=None` instead of `return_all_scores=True` or `top_k=1` instead of `return_all_scores=False`.\n",
      "  warnings.warn(\n"
     ]
    }
   ],
   "source": [
    "tokenizer = RobertaTokenizerFast.from_pretrained(\"arpanghoshal/EmoRoBERTa\")\n",
    "model = TFRobertaForSequenceClassification.from_pretrained(\"arpanghoshal/EmoRoBERTa\")\n",
    "emotion = pipeline('sentiment-analysis', model='arpanghoshal/EmoRoBERTa', return_all_scores= True)"
   ]
  },
  {
   "cell_type": "markdown",
   "metadata": {},
   "source": [
    "## Define Model Testing Functions"
   ]
  },
  {
   "cell_type": "code",
   "execution_count": 9,
   "metadata": {},
   "outputs": [],
   "source": [
    "def predictTopEmotionEmo(text):\n",
    "  if len(tokenizer.encode(text)) > 512:\n",
    "        text = text[:512]\n",
    "        \n",
    "  emotions = emotion(text)[0]\n",
    "  result = sorted(emotions, key=lambda x: x['score'], reverse=True)\n",
    "  return result[0]['label']"
   ]
  },
  {
   "cell_type": "code",
   "execution_count": 10,
   "metadata": {},
   "outputs": [
    {
     "data": {
      "text/plain": [
       "'sadness'"
      ]
     },
     "execution_count": 10,
     "metadata": {},
     "output_type": "execute_result"
    }
   ],
   "source": [
    "predictTopEmotionEmo(\"I am sad\")"
   ]
  },
  {
   "cell_type": "markdown",
   "metadata": {},
   "source": [
    "# Functional Testing"
   ]
  },
  {
   "cell_type": "markdown",
   "metadata": {},
   "source": [
    "### Accuracy Test for the EmoRoBERTa Model"
   ]
  },
  {
   "cell_type": "code",
   "execution_count": null,
   "metadata": {},
   "outputs": [
    {
     "name": "stdout",
     "output_type": "stream",
     "text": [
      "Accuracy: 47.39%\n"
     ]
    }
   ],
   "source": [
    "correct = 0\n",
    "total = len(test_data)\n",
    "for index, row in test_data.iterrows():\n",
    "    predicted_emotion = predictTopEmotionEmo(row['text'])\n",
    "    actual_emotion = row['emotion']\n",
    "    if predicted_emotion == actual_emotion:\n",
    "        correct += 1\n",
    "\n",
    "accuracy = correct / total\n",
    "print(f'Accuracy: {accuracy * 100:.2f}%')"
   ]
  },
  {
   "cell_type": "markdown",
   "metadata": {},
   "source": [
    "### Input Limit Test"
   ]
  },
  {
   "cell_type": "code",
   "execution_count": 22,
   "metadata": {},
   "outputs": [],
   "source": [
    "import random\n",
    "import string\n",
    "\n",
    "def generate_random_sentence(length):\n",
    "    # Define the pool of characters to choose from\n",
    "    pool = string.ascii_letters + string.digits + string.punctuation + ' '\n",
    "\n",
    "    # Generate random characters to form the sentence\n",
    "    sentence = ''.join(random.choice(pool) for _ in range(length))\n",
    "\n",
    "    return sentence"
   ]
  },
  {
   "cell_type": "code",
   "execution_count": 31,
   "metadata": {},
   "outputs": [],
   "source": [
    "ten_char = generate_random_sentence(10)\n",
    "hundred_char = generate_random_sentence(100)\n",
    "thousand_char = generate_random_sentence(1000)\n",
    "ten_thousand_char = generate_random_sentence(10000)\n",
    "hundred_thousand_char = generate_random_sentence(100000)\n",
    "million_char = generate_random_sentence(1000000)"
   ]
  },
  {
   "cell_type": "code",
   "execution_count": 32,
   "metadata": {},
   "outputs": [
    {
     "name": "stdout",
     "output_type": "stream",
     "text": [
      "Ten Characters               : Success\n",
      "Hundred Characters           : Success\n",
      "Thousand Characters          : Success\n",
      "Ten Thousand Characters      : Success\n",
      "Hundred Thousand Characters  : Success\n",
      "Million Characters           : Success\n"
     ]
    }
   ],
   "source": [
    "print(\"Ten Characters               :\", f\"{'Success' if predictTopEmotionEmo(ten_char) else 'Fail'}\")\n",
    "print(\"Hundred Characters           :\", f\"{'Success' if predictTopEmotionEmo(hundred_char) else 'Fail'}\")\n",
    "print(\"Thousand Characters          :\", f\"{'Success' if predictTopEmotionEmo(thousand_char) else 'Fail'}\")\n",
    "print(\"Ten Thousand Characters      :\", f\"{'Success' if predictTopEmotionEmo(ten_thousand_char) else 'Fail'}\")\n",
    "print(\"Hundred Thousand Characters  :\", f\"{'Success' if predictTopEmotionEmo(hundred_thousand_char) else 'Fail'}\")\n",
    "print(\"Million Characters           :\", f\"{'Success' if predictTopEmotionEmo(million_char) else 'Fail'}\")"
   ]
  }
 ],
 "metadata": {
  "kernelspec": {
   "display_name": "Python 3",
   "language": "python",
   "name": "python3"
  },
  "language_info": {
   "codemirror_mode": {
    "name": "ipython",
    "version": 3
   },
   "file_extension": ".py",
   "mimetype": "text/x-python",
   "name": "python",
   "nbconvert_exporter": "python",
   "pygments_lexer": "ipython3",
   "version": "3.8.18"
  }
 },
 "nbformat": 4,
 "nbformat_minor": 2
}
