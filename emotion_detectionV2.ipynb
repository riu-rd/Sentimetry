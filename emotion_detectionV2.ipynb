{
 "cells": [
  {
   "cell_type": "code",
   "execution_count": 1,
   "metadata": {},
   "outputs": [],
   "source": [
    "import os\n",
    "import pandas as pd\n",
    "import matplotlib.pyplot as plt\n",
    "from pathlib import Path\n",
    "import urllib.request\n",
    "from sklearn.model_selection import train_test_split\n",
    "\n",
    "# Tensorflow\n",
    "import tensorflow as tf\n",
    "from tensorflow.keras import layers, models\n",
    "\n",
    "# RETVec\n",
    "from retvec.tf import RETVecTokenizer\n",
    "\n",
    "# Datasets Folder\n",
    "datasets_folder = Path(\"./datasets/goemotions\")\n",
    "\n",
    "# silence TF INFO messages\n",
    "os.environ['TF_CPP_MIN_LOG_LEVEL'] = '1'  \n",
    "\n",
    "# model save path\n",
    "save_path = './models/emo_modelV2.h5'\n"
   ]
  },
  {
   "cell_type": "markdown",
   "metadata": {},
   "source": [
    "## Get the Emotion Classes"
   ]
  },
  {
   "cell_type": "code",
   "execution_count": 2,
   "metadata": {},
   "outputs": [
    {
     "name": "stdout",
     "output_type": "stream",
     "text": [
      "Number of Classes: 28\n",
      "['admiration', 'amusement', 'anger', 'annoyance', 'approval', 'caring', 'confusion', 'curiosity', 'desire', 'disappointment', 'disapproval', 'disgust', 'embarrassment', 'excitement', 'fear', 'gratitude', 'grief', 'joy', 'love', 'nervousness', 'optimism', 'pride', 'realization', 'relief', 'remorse', 'sadness', 'surprise', 'neutral']\n"
     ]
    }
   ],
   "source": [
    "classes = urllib.request.urlopen('https://raw.githubusercontent.com/google-research/google-research'\n",
    "'/master/goemotions/data/emotions.txt').read().decode('utf8').split('\\n')\n",
    "num_classes = len(classes)\n",
    "print(f\"Number of Classes: {num_classes}\")\n",
    "print(classes)"
   ]
  },
  {
   "cell_type": "markdown",
   "metadata": {},
   "source": [
    "## Load the Dataset"
   ]
  },
  {
   "cell_type": "code",
   "execution_count": 3,
   "metadata": {},
   "outputs": [
    {
     "name": "stdout",
     "output_type": "stream",
     "text": [
      "GoEmotions 1:  (70000, 37)\n",
      "GoEmotions 2:  (70000, 37)\n",
      "GoEmotions 3:  (71225, 37)\n",
      "- - - - - - - - - - - - - - - - - - -\n",
      "GoEmotions Concatenated:  (211225, 37)\n"
     ]
    }
   ],
   "source": [
    "goemotions_1 = pd.read_csv(datasets_folder / \"goemotions_1.csv\")\n",
    "goemotions_2 = pd.read_csv(datasets_folder / \"goemotions_2.csv\")\n",
    "goemotions_3 = pd.read_csv(datasets_folder / \"goemotions_3.csv\")\n",
    "print(\"GoEmotions 1: \", goemotions_1.shape)\n",
    "print(\"GoEmotions 2: \", goemotions_2.shape)\n",
    "print(\"GoEmotions 3: \", goemotions_3.shape)\n",
    "\n",
    "# Concatenate all of the datasets\n",
    "goemotions = pd.concat([goemotions_1, goemotions_2, goemotions_3])\n",
    "print(\"- - - - - - - - - - - - - - - - - - -\\nGoEmotions Concatenated: \", goemotions.shape)"
   ]
  },
  {
   "cell_type": "code",
   "execution_count": 4,
   "metadata": {},
   "outputs": [
    {
     "data": {
      "text/html": [
       "<div>\n",
       "<style scoped>\n",
       "    .dataframe tbody tr th:only-of-type {\n",
       "        vertical-align: middle;\n",
       "    }\n",
       "\n",
       "    .dataframe tbody tr th {\n",
       "        vertical-align: top;\n",
       "    }\n",
       "\n",
       "    .dataframe thead th {\n",
       "        text-align: right;\n",
       "    }\n",
       "</style>\n",
       "<table border=\"1\" class=\"dataframe\">\n",
       "  <thead>\n",
       "    <tr style=\"text-align: right;\">\n",
       "      <th></th>\n",
       "      <th>text</th>\n",
       "      <th>id</th>\n",
       "      <th>author</th>\n",
       "      <th>subreddit</th>\n",
       "      <th>link_id</th>\n",
       "      <th>parent_id</th>\n",
       "      <th>created_utc</th>\n",
       "      <th>rater_id</th>\n",
       "      <th>example_very_unclear</th>\n",
       "      <th>admiration</th>\n",
       "      <th>...</th>\n",
       "      <th>love</th>\n",
       "      <th>nervousness</th>\n",
       "      <th>optimism</th>\n",
       "      <th>pride</th>\n",
       "      <th>realization</th>\n",
       "      <th>relief</th>\n",
       "      <th>remorse</th>\n",
       "      <th>sadness</th>\n",
       "      <th>surprise</th>\n",
       "      <th>neutral</th>\n",
       "    </tr>\n",
       "  </thead>\n",
       "  <tbody>\n",
       "    <tr>\n",
       "      <th>0</th>\n",
       "      <td>That game hurt.</td>\n",
       "      <td>eew5j0j</td>\n",
       "      <td>Brdd9</td>\n",
       "      <td>nrl</td>\n",
       "      <td>t3_ajis4z</td>\n",
       "      <td>t1_eew18eq</td>\n",
       "      <td>1.548381e+09</td>\n",
       "      <td>1</td>\n",
       "      <td>False</td>\n",
       "      <td>0</td>\n",
       "      <td>...</td>\n",
       "      <td>0</td>\n",
       "      <td>0</td>\n",
       "      <td>0</td>\n",
       "      <td>0</td>\n",
       "      <td>0</td>\n",
       "      <td>0</td>\n",
       "      <td>0</td>\n",
       "      <td>1</td>\n",
       "      <td>0</td>\n",
       "      <td>0</td>\n",
       "    </tr>\n",
       "    <tr>\n",
       "      <th>1</th>\n",
       "      <td>&gt;sexuality shouldn’t be a grouping category I...</td>\n",
       "      <td>eemcysk</td>\n",
       "      <td>TheGreen888</td>\n",
       "      <td>unpopularopinion</td>\n",
       "      <td>t3_ai4q37</td>\n",
       "      <td>t3_ai4q37</td>\n",
       "      <td>1.548084e+09</td>\n",
       "      <td>37</td>\n",
       "      <td>True</td>\n",
       "      <td>0</td>\n",
       "      <td>...</td>\n",
       "      <td>0</td>\n",
       "      <td>0</td>\n",
       "      <td>0</td>\n",
       "      <td>0</td>\n",
       "      <td>0</td>\n",
       "      <td>0</td>\n",
       "      <td>0</td>\n",
       "      <td>0</td>\n",
       "      <td>0</td>\n",
       "      <td>0</td>\n",
       "    </tr>\n",
       "    <tr>\n",
       "      <th>2</th>\n",
       "      <td>You do right, if you don't care then fuck 'em!</td>\n",
       "      <td>ed2mah1</td>\n",
       "      <td>Labalool</td>\n",
       "      <td>confessions</td>\n",
       "      <td>t3_abru74</td>\n",
       "      <td>t1_ed2m7g7</td>\n",
       "      <td>1.546428e+09</td>\n",
       "      <td>37</td>\n",
       "      <td>False</td>\n",
       "      <td>0</td>\n",
       "      <td>...</td>\n",
       "      <td>0</td>\n",
       "      <td>0</td>\n",
       "      <td>0</td>\n",
       "      <td>0</td>\n",
       "      <td>0</td>\n",
       "      <td>0</td>\n",
       "      <td>0</td>\n",
       "      <td>0</td>\n",
       "      <td>0</td>\n",
       "      <td>1</td>\n",
       "    </tr>\n",
       "    <tr>\n",
       "      <th>3</th>\n",
       "      <td>Man I love reddit.</td>\n",
       "      <td>eeibobj</td>\n",
       "      <td>MrsRobertshaw</td>\n",
       "      <td>facepalm</td>\n",
       "      <td>t3_ahulml</td>\n",
       "      <td>t3_ahulml</td>\n",
       "      <td>1.547965e+09</td>\n",
       "      <td>18</td>\n",
       "      <td>False</td>\n",
       "      <td>0</td>\n",
       "      <td>...</td>\n",
       "      <td>1</td>\n",
       "      <td>0</td>\n",
       "      <td>0</td>\n",
       "      <td>0</td>\n",
       "      <td>0</td>\n",
       "      <td>0</td>\n",
       "      <td>0</td>\n",
       "      <td>0</td>\n",
       "      <td>0</td>\n",
       "      <td>0</td>\n",
       "    </tr>\n",
       "    <tr>\n",
       "      <th>4</th>\n",
       "      <td>[NAME] was nowhere near them, he was by the Fa...</td>\n",
       "      <td>eda6yn6</td>\n",
       "      <td>American_Fascist713</td>\n",
       "      <td>starwarsspeculation</td>\n",
       "      <td>t3_ackt2f</td>\n",
       "      <td>t1_eda65q2</td>\n",
       "      <td>1.546669e+09</td>\n",
       "      <td>2</td>\n",
       "      <td>False</td>\n",
       "      <td>0</td>\n",
       "      <td>...</td>\n",
       "      <td>0</td>\n",
       "      <td>0</td>\n",
       "      <td>0</td>\n",
       "      <td>0</td>\n",
       "      <td>0</td>\n",
       "      <td>0</td>\n",
       "      <td>0</td>\n",
       "      <td>0</td>\n",
       "      <td>0</td>\n",
       "      <td>1</td>\n",
       "    </tr>\n",
       "  </tbody>\n",
       "</table>\n",
       "<p>5 rows × 37 columns</p>\n",
       "</div>"
      ],
      "text/plain": [
       "                                                text       id  \\\n",
       "0                                    That game hurt.  eew5j0j   \n",
       "1   >sexuality shouldn’t be a grouping category I...  eemcysk   \n",
       "2     You do right, if you don't care then fuck 'em!  ed2mah1   \n",
       "3                                 Man I love reddit.  eeibobj   \n",
       "4  [NAME] was nowhere near them, he was by the Fa...  eda6yn6   \n",
       "\n",
       "                author            subreddit    link_id   parent_id  \\\n",
       "0                Brdd9                  nrl  t3_ajis4z  t1_eew18eq   \n",
       "1          TheGreen888     unpopularopinion  t3_ai4q37   t3_ai4q37   \n",
       "2             Labalool          confessions  t3_abru74  t1_ed2m7g7   \n",
       "3        MrsRobertshaw             facepalm  t3_ahulml   t3_ahulml   \n",
       "4  American_Fascist713  starwarsspeculation  t3_ackt2f  t1_eda65q2   \n",
       "\n",
       "    created_utc  rater_id  example_very_unclear  admiration  ...  love  \\\n",
       "0  1.548381e+09         1                 False           0  ...     0   \n",
       "1  1.548084e+09        37                  True           0  ...     0   \n",
       "2  1.546428e+09        37                 False           0  ...     0   \n",
       "3  1.547965e+09        18                 False           0  ...     1   \n",
       "4  1.546669e+09         2                 False           0  ...     0   \n",
       "\n",
       "   nervousness  optimism  pride  realization  relief  remorse  sadness  \\\n",
       "0            0         0      0            0       0        0        1   \n",
       "1            0         0      0            0       0        0        0   \n",
       "2            0         0      0            0       0        0        0   \n",
       "3            0         0      0            0       0        0        0   \n",
       "4            0         0      0            0       0        0        0   \n",
       "\n",
       "   surprise  neutral  \n",
       "0         0        0  \n",
       "1         0        0  \n",
       "2         0        1  \n",
       "3         0        0  \n",
       "4         0        1  \n",
       "\n",
       "[5 rows x 37 columns]"
      ]
     },
     "execution_count": 4,
     "metadata": {},
     "output_type": "execute_result"
    }
   ],
   "source": [
    "goemotions.head()"
   ]
  },
  {
   "cell_type": "markdown",
   "metadata": {},
   "source": [
    "## Preparing Train/Test data and Conversion to Tensors"
   ]
  },
  {
   "cell_type": "code",
   "execution_count": 12,
   "metadata": {},
   "outputs": [],
   "source": [
    "text = goemotions['text']\n",
    "labels = goemotions[classes]\n",
    "\n",
    "text_train, text_test, labels_train, labels_test = train_test_split(\n",
    "    text, labels, test_size=0.20, random_state=23\n",
    ")"
   ]
  },
  {
   "cell_type": "code",
   "execution_count": 13,
   "metadata": {},
   "outputs": [],
   "source": [
    "# Train Data\n",
    "x_train = tf.constant(text_train.tolist(), dtype=tf.string)\n",
    "y_train = labels_train.values.astype(float)\n",
    "\n",
    "# Test Data\n",
    "x_test = tf.constant(text_test.tolist(), dtype=tf.string)\n",
    "y_test = labels_test.values.astype(float)"
   ]
  },
  {
   "cell_type": "code",
   "execution_count": 14,
   "metadata": {},
   "outputs": [
    {
     "name": "stdout",
     "output_type": "stream",
     "text": [
      "x_train contents:\n",
      "tf.Tensor(\n",
      "[b'Agree, I love her so much'\n",
      " b\"Peaky Blinders is the shit. I don't understand how there isn't more hype around this show.\"\n",
      " b'Thank you anyway! I\\xe2\\x80\\x99m 30 and I don\\xe2\\x80\\x99t get a lot of these things.'\n",
      " ... b'We gotta keep [NAME]'\n",
      " b'Man, I wish I liked music that much. Well maybe not *that* much, but you know what I mean. '\n",
      " b'Death will come in the end. Live while you can. Life is a once in an eternity opportunity.'], shape=(168980,), dtype=string)\n",
      "<class 'tensorflow.python.framework.ops.EagerTensor'>\n",
      "\n",
      "y_train contents:\n",
      "[[0. 0. 0. ... 0. 0. 0.]\n",
      " [0. 0. 0. ... 0. 0. 0.]\n",
      " [0. 0. 0. ... 0. 0. 0.]\n",
      " ...\n",
      " [0. 0. 0. ... 0. 0. 1.]\n",
      " [0. 0. 0. ... 0. 0. 1.]\n",
      " [0. 0. 0. ... 0. 0. 0.]]\n",
      "<class 'numpy.ndarray'>\n"
     ]
    }
   ],
   "source": [
    "print(\"x_train contents:\")\n",
    "print(x_train)\n",
    "print(type(x_train))\n",
    "print(\"\\ny_train contents:\")\n",
    "print(y_train)\n",
    "print(type(y_train))"
   ]
  },
  {
   "cell_type": "markdown",
   "metadata": {},
   "source": [
    "## Creating the Keras Model\n",
    "A key benefit of using RETVec is that inputs to RETVec and the text model are raw strings with no pre-processing neccessary, which greatly simplifies the training and inference process, especially for on-device models.\n",
    "\n",
    "Notes:\n",
    "\n",
    "- Using strings directly as input requires to use a shape of (1,) and specify the type tf.string\n",
    "- We are using RETVecTokenizer() in its default configuration which is to truncate at 128 words and use a small pre-trained word embedding model to embed the words. You can experiment with shorter or longer length by changing the sequence_length parameter. The word embedding model offers significant improvements in adversarial and typo robustness. To use the RETVec character tokenizer only, set model=None.\n",
    "- To use native TF ops only for TF Lite compatibility, set use_tf_lite_compatible_ops=True. see the TF Lite notebook for more details on how to convert a RETVec-based model to a TF Lite model which can run on-device."
   ]
  },
  {
   "cell_type": "code",
   "execution_count": 15,
   "metadata": {},
   "outputs": [
    {
     "name": "stdout",
     "output_type": "stream",
     "text": [
      "WARNING:tensorflow:No training configuration found in save file, so the model was *not* compiled. Compile it manually.\n",
      "Model: \"model\"\n",
      "_________________________________________________________________\n",
      " Layer (type)                Output Shape              Param #   \n",
      "=================================================================\n",
      " token (InputLayer)          [(None, 1)]               0         \n",
      "                                                                 \n",
      " ret_vec_tokenizer (RETVecT  (None, 128, 256)          230144    \n",
      " okenizer)                                                       \n",
      "                                                                 \n",
      " bidirectional (Bidirection  (None, 128, 128)          164352    \n",
      " al)                                                             \n",
      "                                                                 \n",
      " bidirectional_1 (Bidirecti  (None, 128, 128)          98816     \n",
      " onal)                                                           \n",
      "                                                                 \n",
      " bidirectional_2 (Bidirecti  (None, 128)               98816     \n",
      " onal)                                                           \n",
      "                                                                 \n",
      " dense (Dense)               (None, 128)               16512     \n",
      "                                                                 \n",
      " dropout_1 (Dropout)         (None, 128)               0         \n",
      "                                                                 \n",
      " dense_1 (Dense)             (None, 28)                3612      \n",
      "                                                                 \n",
      "=================================================================\n",
      "Total params: 612252 (2.34 MB)\n",
      "Trainable params: 382108 (1.46 MB)\n",
      "Non-trainable params: 230144 (899.00 KB)\n",
      "_________________________________________________________________\n"
     ]
    }
   ],
   "source": [
    "# Inputs: Using strings directly requires to put a shape of (1,) and dtype tf.string\n",
    "inputs = layers.Input(shape=(1, ), name=\"token\", dtype=tf.string)\n",
    "\n",
    "# Layers: add RETVec tokenizer layer with default settings\n",
    "x = RETVecTokenizer(model='retvec-v1')(inputs)\n",
    "# standard two layer LSTM\n",
    "x = layers.Bidirectional(layers.LSTM(64, return_sequences=True))(x)\n",
    "x = layers.Bidirectional(layers.LSTM(64, return_sequences=True))(x)\n",
    "x = layers.Bidirectional(layers.LSTM(64))(x)\n",
    "\n",
    "# Adding more dense layers\n",
    "x = layers.Dense(128, activation='relu')(x)\n",
    "x = layers.Dropout(0.5)(x)  # Adding dropout for regularization\n",
    "\n",
    "# Outputs: Dense layer with Sigmoid \n",
    "# Sigmoid is a better activation function for binary-class problems\n",
    "# In our case, the data using one-hot encoding\n",
    "outputs = layers.Dense(num_classes, activation='sigmoid')(x)\n",
    "\n",
    "# Finish setting up the model\n",
    "model = models.Model(inputs, outputs)\n",
    "model.summary()"
   ]
  },
  {
   "cell_type": "code",
   "execution_count": 16,
   "metadata": {},
   "outputs": [
    {
     "name": "stdout",
     "output_type": "stream",
     "text": [
      "Epoch 1/25\n",
      "661/661 [==============================] - 3137s 5s/step - loss: 0.1726 - acc: 0.2425 - val_loss: 0.1497 - val_acc: 0.3004\n",
      "Epoch 2/25\n",
      "661/661 [==============================] - 2615s 4s/step - loss: 0.1499 - acc: 0.3076 - val_loss: 0.1406 - val_acc: 0.3301\n",
      "Epoch 3/25\n",
      "661/661 [==============================] - 2655s 4s/step - loss: 0.1420 - acc: 0.3393 - val_loss: 0.1336 - val_acc: 0.3639\n",
      "Epoch 4/25\n",
      "661/661 [==============================] - 2727s 4s/step - loss: 0.1365 - acc: 0.3589 - val_loss: 0.1308 - val_acc: 0.3722\n",
      "Epoch 5/25\n",
      "661/661 [==============================] - 2645s 4s/step - loss: 0.1331 - acc: 0.3664 - val_loss: 0.1279 - val_acc: 0.3708\n",
      "Epoch 6/25\n",
      "661/661 [==============================] - 2895s 4s/step - loss: 0.1302 - acc: 0.3724 - val_loss: 0.1245 - val_acc: 0.3848\n",
      "Epoch 7/25\n",
      "661/661 [==============================] - 2137s 3s/step - loss: 0.1277 - acc: 0.3806 - val_loss: 0.1243 - val_acc: 0.3904\n",
      "Epoch 8/25\n",
      "661/661 [==============================] - 1918s 3s/step - loss: 0.1258 - acc: 0.3877 - val_loss: 0.1224 - val_acc: 0.3906\n",
      "Epoch 9/25\n",
      "661/661 [==============================] - 1953s 3s/step - loss: 0.1242 - acc: 0.3933 - val_loss: 0.1209 - val_acc: 0.3984\n",
      "Epoch 10/25\n",
      "661/661 [==============================] - 1885s 3s/step - loss: 0.1230 - acc: 0.3976 - val_loss: 0.1207 - val_acc: 0.4015\n",
      "Epoch 11/25\n",
      "661/661 [==============================] - 1849s 3s/step - loss: 0.1218 - acc: 0.4014 - val_loss: 0.1196 - val_acc: 0.4025\n",
      "Epoch 12/25\n",
      "661/661 [==============================] - 1862s 3s/step - loss: 0.1208 - acc: 0.4048 - val_loss: 0.1191 - val_acc: 0.4050\n",
      "Epoch 13/25\n",
      "661/661 [==============================] - 1869s 3s/step - loss: 0.1199 - acc: 0.4082 - val_loss: 0.1189 - val_acc: 0.4057\n",
      "Epoch 14/25\n",
      "661/661 [==============================] - 1836s 3s/step - loss: 0.1190 - acc: 0.4108 - val_loss: 0.1184 - val_acc: 0.4058\n",
      "Epoch 15/25\n",
      "661/661 [==============================] - 1856s 3s/step - loss: 0.1183 - acc: 0.4124 - val_loss: 0.1187 - val_acc: 0.4060\n",
      "Epoch 16/25\n",
      "661/661 [==============================] - 1865s 3s/step - loss: 0.1175 - acc: 0.4153 - val_loss: 0.1189 - val_acc: 0.4041\n",
      "Epoch 17/25\n",
      "661/661 [==============================] - 1881s 3s/step - loss: 0.1168 - acc: 0.4164 - val_loss: 0.1178 - val_acc: 0.4041\n",
      "Epoch 18/25\n",
      "661/661 [==============================] - 1855s 3s/step - loss: 0.1162 - acc: 0.4189 - val_loss: 0.1184 - val_acc: 0.4037\n",
      "Epoch 19/25\n",
      "661/661 [==============================] - 1804s 3s/step - loss: 0.1155 - acc: 0.4212 - val_loss: 0.1178 - val_acc: 0.4063\n",
      "Epoch 20/25\n",
      "661/661 [==============================] - 1824s 3s/step - loss: 0.1150 - acc: 0.4242 - val_loss: 0.1181 - val_acc: 0.4048\n",
      "Epoch 21/25\n",
      "661/661 [==============================] - 1810s 3s/step - loss: 0.1146 - acc: 0.4246 - val_loss: 0.1176 - val_acc: 0.4042\n",
      "Epoch 22/25\n",
      "661/661 [==============================] - 1822s 3s/step - loss: 0.1141 - acc: 0.4255 - val_loss: 0.1188 - val_acc: 0.4067\n",
      "Epoch 23/25\n",
      "661/661 [==============================] - 1843s 3s/step - loss: 0.1136 - acc: 0.4281 - val_loss: 0.1179 - val_acc: 0.4094\n",
      "Epoch 24/25\n",
      "661/661 [==============================] - 1839s 3s/step - loss: 0.1130 - acc: 0.4307 - val_loss: 0.1180 - val_acc: 0.4048\n",
      "Epoch 25/25\n",
      "661/661 [==============================] - 1841s 3s/step - loss: 0.1125 - acc: 0.4309 - val_loss: 0.1181 - val_acc: 0.4076\n"
     ]
    }
   ],
   "source": [
    "# Compile and Train the Model\n",
    "batch_size = 256\n",
    "epochs = 25\n",
    "model.compile(optimizer='adam', loss='binary_crossentropy', metrics=['acc'])\n",
    "history = model.fit(x_train, y_train, epochs=epochs, batch_size=batch_size, \n",
    "                    validation_data=(x_test, y_test))"
   ]
  },
  {
   "cell_type": "markdown",
   "metadata": {},
   "source": [
    "## Plot the Training Accuracy and Validation Accuracy"
   ]
  },
  {
   "cell_type": "code",
   "execution_count": 17,
   "metadata": {},
   "outputs": [
    {
     "data": {
      "image/png": "[encoded data removed]",
      "text/plain": [
       "<Figure size 640x480 with 1 Axes>"
      ]
     },
     "metadata": {},
     "output_type": "display_data"
    }
   ],
   "source": [
    "# Visualize the Training Curves\n",
    "plt.plot(history.history['acc'])\n",
    "plt.plot(history.history['val_acc'])\n",
    "plt.legend(['acc', 'val_acc'])\n",
    "plt.title(f'Accuracy')\n",
    "plt.show()"
   ]
  },
  {
   "cell_type": "markdown",
   "metadata": {},
   "source": [
    "## Save the Model"
   ]
  },
  {
   "cell_type": "code",
   "execution_count": 6,
   "metadata": {},
   "outputs": [
    {
     "name": "stdout",
     "output_type": "stream",
     "text": [
      "WARNING:tensorflow:Skipping full serialization of Keras layer <keras.src.layers.regularization.dropout.Dropout object at 0x0000016BA96B45B0>, because it is not built.\n",
      "WARNING:tensorflow:Skipping full serialization of Keras layer <keras.src.layers.regularization.spatial_dropout1d.SpatialDropout1D object at 0x0000016BAA9ECDF0>, because it is not built.\n",
      "INFO:tensorflow:Assets written to: ./models/emo_modelV2\\assets\n"
     ]
    },
    {
     "name": "stderr",
     "output_type": "stream",
     "text": [
      "INFO:tensorflow:Assets written to: ./models/emo_modelV2\\assets\n"
     ]
    }
   ],
   "source": [
    "# Saving the Model\n",
    "model.save(save_path)"
   ]
  },
  {
   "cell_type": "markdown",
   "metadata": {},
   "source": [
    "## Load the Model\n",
    "#### To load the model, run everything <b>EXCEPT</b> for:\n",
    "- Creating the Keras Model Section\n",
    "- Plotting Section\n",
    "- Saving the Model Section"
   ]
  },
  {
   "cell_type": "code",
   "execution_count": 5,
   "metadata": {},
   "outputs": [
    {
     "name": "stdout",
     "output_type": "stream",
     "text": [
      "WARNING:tensorflow:No training configuration found in save file, so the model was *not* compiled. Compile it manually.\n"
     ]
    },
    {
     "data": {
      "text/plain": [
       "keras.src.engine.functional.Functional"
      ]
     },
     "execution_count": 5,
     "metadata": {},
     "output_type": "execute_result"
    }
   ],
   "source": [
    "model = tf.keras.models.load_model(save_path, compile=True)\n",
    "type(model)"
   ]
  },
  {
   "cell_type": "code",
   "execution_count": 6,
   "metadata": {},
   "outputs": [
    {
     "name": "stdout",
     "output_type": "stream",
     "text": [
      "Model: \"model\"\n",
      "_________________________________________________________________\n",
      " Layer (type)                Output Shape              Param #   \n",
      "=================================================================\n",
      " token (InputLayer)          [(None, 1)]               0         \n",
      "                                                                 \n",
      " ret_vec_tokenizer (RETVecT  (None, 128, 256)          230144    \n",
      " okenizer)                                                       \n",
      "                                                                 \n",
      " bidirectional (Bidirection  (None, 128, 128)          164352    \n",
      " al)                                                             \n",
      "                                                                 \n",
      " bidirectional_1 (Bidirecti  (None, 128, 128)          98816     \n",
      " onal)                                                           \n",
      "                                                                 \n",
      " bidirectional_2 (Bidirecti  (None, 128)               98816     \n",
      " onal)                                                           \n",
      "                                                                 \n",
      " dense (Dense)               (None, 128)               16512     \n",
      "                                                                 \n",
      " dropout_1 (Dropout)         (None, 128)               0         \n",
      "                                                                 \n",
      " dense_1 (Dense)             (None, 28)                3612      \n",
      "                                                                 \n",
      "=================================================================\n",
      "Total params: 612252 (2.34 MB)\n",
      "Trainable params: 382108 (1.46 MB)\n",
      "Non-trainable params: 230144 (899.00 KB)\n",
      "_________________________________________________________________\n"
     ]
    }
   ],
   "source": [
    "model.summary()"
   ]
  },
  {
   "cell_type": "code",
   "execution_count": 24,
   "metadata": {},
   "outputs": [
    {
     "name": "stdout",
     "output_type": "stream",
     "text": [
      "1321/1321 [==============================] - 306s 230ms/step - loss: 0.1181 - acc: 0.4076\n",
      "Loss: 11.81%\n",
      "Accuracy: 40.76%\n"
     ]
    }
   ],
   "source": [
    "loss, accuracy = model.evaluate(x_test, y_test)\n",
    "\n",
    "print(f'Loss: {loss * 100:.2f}%')\n",
    "print(f'Accuracy: {accuracy * 100:.2f}%')"
   ]
  },
  {
   "cell_type": "code",
   "execution_count": 7,
   "metadata": {},
   "outputs": [
    {
     "data": {
      "text/plain": [
       "<tf.Tensor: shape=(1, 28), dtype=float32, numpy=\n",
       "array([[3.7370194e-04, 2.9784173e-04, 4.1748047e-02, 1.2234423e-01,\n",
       "        1.0961640e-02, 4.5040976e-03, 2.5849912e-04, 9.3446281e-05,\n",
       "        6.5391400e-04, 3.8864356e-01, 6.3249193e-02, 6.0026221e-02,\n",
       "        3.7058409e-02, 1.4450520e-04, 7.3134466e-03, 2.4146221e-04,\n",
       "        1.5391342e-02, 1.4130137e-04, 1.2719432e-04, 1.4282188e-02,\n",
       "        1.2469504e-03, 8.8737812e-05, 2.0637004e-02, 8.8390196e-05,\n",
       "        2.9807571e-02, 3.4769529e-01, 8.2683179e-04, 4.6016954e-02]],\n",
       "      dtype=float32)>"
      ]
     },
     "execution_count": 7,
     "metadata": {},
     "output_type": "execute_result"
    }
   ],
   "source": [
    "# The model returns the array of probabilities for all 28 emotions\n",
    "model(tf.constant([\"I feel so bad\"]))[0]"
   ]
  },
  {
   "cell_type": "code",
   "execution_count": 11,
   "metadata": {},
   "outputs": [],
   "source": [
    "def predict_emotions(txt):\n",
    "    predictions = model(tf.constant([txt]))[0]\n",
    "    best_prediction_index = tf.argmax(predictions).numpy()\n",
    "    predicted_emotion = classes[best_prediction_index]\n",
    "    probability = round(tf.reduce_max(predictions).numpy() * 100, 1)\n",
    "    print(f\"Emotion: {predicted_emotion} ({probability})%\")"
   ]
  },
  {
   "cell_type": "code",
   "execution_count": 32,
   "metadata": {},
   "outputs": [
    {
     "name": "stdout",
     "output_type": "stream",
     "text": [
      "- - - - | he is really good at what he is doing | - - - -\n",
      "Emotion: admiration (69.0)%\n",
      "- - - - | I am angry | - - - -\n",
      "Emotion: anger (45.7)%\n",
      "- - - - | I find these very funny | - - - -\n",
      "Emotion: amusement (58.0)%\n",
      "- - - - | I enjoy having a good icecream. | - - - -\n",
      "Emotion: joy (70.5)%\n",
      "- - - - | I don't like this. Take it away | - - - -\n",
      "Emotion: disapproval (46.2)%\n",
      "- - - - | You shocked me! | - - - -\n",
      "Emotion: surprise (45.2)%\n",
      "- - - - | That was embarassing. | - - - -\n",
      "Emotion: embarrassment (58.6)%\n",
      "- - - - | I think that you are right | - - - -\n",
      "Emotion: approval (57.8)%\n",
      "- - - - | The food tastes so disgusting | - - - -\n",
      "Emotion: disgust (74.9)%\n",
      "- - - - | I am very sorry for your loss | - - - -\n",
      "Emotion: sadness (65.2)%\n",
      "- - - - | I just realized that I should be working right now | - - - -\n",
      "Emotion: realization (33.8)%\n",
      "- - - - | I think I really like you | - - - -\n",
      "Emotion: love (49.2)%\n",
      "- - - - | This place is creepy and scary | - - - -\n",
      "Emotion: fear (70.1)%\n",
      "- - - - | I want to be a billionaire | - - - -\n",
      "Emotion: desire (40.2)%\n",
      "- - - - | I just feel so annoyed | - - - -\n",
      "Emotion: annoyance (35.7)%\n"
     ]
    }
   ],
   "source": [
    "txts = [\n",
    "    \"he is really good at what he is doing\",\n",
    "    \"I am angry\",\n",
    "    \"I find these very funny\",\n",
    "    \"I enjoy having a good icecream.\",\n",
    "    \"I don't like this. Take it away\",\n",
    "    \"You shocked me!\",\n",
    "    \"That was embarassing.\",\n",
    "    \"I think that you are right\",\n",
    "    \"The food tastes so disgusting\",\n",
    "    \"I am very sorry for your loss\",\n",
    "    \"I just realized that I should be working right now\",\n",
    "    \"I think I really like you\",\n",
    "    \"This place is creepy and scary\",\n",
    "    \"I want to be a billionaire\",\n",
    "    \"I just feel so annoyed\"\n",
    "]\n",
    "for txt in txts:\n",
    "    print(f\"- - - - | {txt} | - - - -\")\n",
    "    predict_emotions(txt)"
   ]
  },
  {
   "cell_type": "code",
   "execution_count": 7,
   "metadata": {},
   "outputs": [
    {
     "name": "stdout",
     "output_type": "stream",
     "text": [
      "Emotion: joy (71.5)%\n"
     ]
    }
   ],
   "source": [
    "# the model works even with typos, substitutions, and emojis!\n",
    "txt = \"I enjoy hving a g00d ic3cream!!! 🍦\"\n",
    "predict_emotions(txt)"
   ]
  },
  {
   "cell_type": "code",
   "execution_count": 12,
   "metadata": {},
   "outputs": [
    {
     "name": "stdout",
     "output_type": "stream",
     "text": [
      "Emotion: sadness (75.8)%\n"
     ]
    }
   ],
   "source": [
    "txt = \"I'm sad but I'm also happy\"\n",
    "predict_emotions(txt)"
   ]
  },
  {
   "cell_type": "code",
   "execution_count": 38,
   "metadata": {},
   "outputs": [
    {
     "data": {
      "text/plain": [
       "<tf.Tensor: shape=(28,), dtype=float32, numpy=\n",
       "array([1.5438222e-02, 7.9162410e-03, 2.7485981e-04, 2.7403790e-03,\n",
       "       9.7282836e-03, 7.5132796e-03, 2.2997405e-05, 3.6003541e-05,\n",
       "       2.8112938e-04, 1.3350104e-01, 8.8259083e-04, 2.9335299e-04,\n",
       "       2.7738749e-03, 2.3061477e-02, 6.9443672e-03, 4.0471661e-03,\n",
       "       2.5556533e-02, 2.0023856e-01, 1.4243709e-02, 1.6781518e-02,\n",
       "       1.8357377e-03, 6.9640152e-04, 1.5481668e-02, 1.6442210e-03,\n",
       "       7.7269715e-03, 7.5787520e-01, 3.8240731e-03, 1.8066062e-02],\n",
       "      dtype=float32)>"
      ]
     },
     "execution_count": 38,
     "metadata": {},
     "output_type": "execute_result"
    }
   ],
   "source": [
    "model(tf.constant([\"I'm sad but I'm also happy\"]))[0]"
   ]
  },
  {
   "cell_type": "code",
   "execution_count": 9,
   "metadata": {},
   "outputs": [],
   "source": [
    "scores = model(tf.constant([\"I'm sad but I'm also happy\"]))[0]"
   ]
  },
  {
   "cell_type": "code",
   "execution_count": 10,
   "metadata": {},
   "outputs": [],
   "source": [
    "result = []\n",
    "for label, score in zip(classes, scores):\n",
    "    result.append({'label': label, 'score': float(score)})"
   ]
  },
  {
   "cell_type": "code",
   "execution_count": 11,
   "metadata": {},
   "outputs": [
    {
     "data": {
      "text/plain": [
       "[{'label': 'sadness', 'score': 0.7578752040863037},\n",
       " {'label': 'joy', 'score': 0.20023855566978455},\n",
       " {'label': 'disappointment', 'score': 0.13350103795528412},\n",
       " {'label': 'grief', 'score': 0.02555653266608715},\n",
       " {'label': 'excitement', 'score': 0.02306147664785385},\n",
       " {'label': 'neutral', 'score': 0.018066061660647392},\n",
       " {'label': 'nervousness', 'score': 0.01678151823580265},\n",
       " {'label': 'realization', 'score': 0.015481667593121529},\n",
       " {'label': 'admiration', 'score': 0.015438222326338291},\n",
       " {'label': 'love', 'score': 0.014243708923459053},\n",
       " {'label': 'approval', 'score': 0.009728283621370792},\n",
       " {'label': 'amusement', 'score': 0.007916240952908993},\n",
       " {'label': 'remorse', 'score': 0.0077269715256989},\n",
       " {'label': 'caring', 'score': 0.007513279560953379},\n",
       " {'label': 'fear', 'score': 0.006944367196410894},\n",
       " {'label': 'gratitude', 'score': 0.0040471660904586315},\n",
       " {'label': 'surprise', 'score': 0.0038240731228142977},\n",
       " {'label': 'embarrassment', 'score': 0.002773874904960394},\n",
       " {'label': 'annoyance', 'score': 0.0027403789572417736},\n",
       " {'label': 'optimism', 'score': 0.001835737726651132},\n",
       " {'label': 'relief', 'score': 0.0016442210180684924},\n",
       " {'label': 'disapproval', 'score': 0.000882590829860419},\n",
       " {'label': 'pride', 'score': 0.0006964015192352235},\n",
       " {'label': 'disgust', 'score': 0.000293352990411222},\n",
       " {'label': 'desire', 'score': 0.0002811293816193938},\n",
       " {'label': 'anger', 'score': 0.0002748598053585738},\n",
       " {'label': 'curiosity', 'score': 3.600354102673009e-05},\n",
       " {'label': 'confusion', 'score': 2.299740481248591e-05}]"
      ]
     },
     "execution_count": 11,
     "metadata": {},
     "output_type": "execute_result"
    }
   ],
   "source": [
    "sorted_result = sorted(result, key=lambda x: x['score'], reverse=True)\n",
    "sorted_result"
   ]
  }
 ],
 "metadata": {
  "kernelspec": {
   "display_name": "Python 3",
   "language": "python",
   "name": "python3"
  },
  "language_info": {
   "codemirror_mode": {
    "name": "ipython",
    "version": 3
   },
   "file_extension": ".py",
   "mimetype": "text/x-python",
   "name": "python",
   "nbconvert_exporter": "python",
   "pygments_lexer": "ipython3",
   "version": "3.8.18"
  }
 },
 "nbformat": 4,
 "nbformat_minor": 2
}
